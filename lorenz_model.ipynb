{
 "cells": [
  {
   "cell_type": "code",
   "execution_count": 7,
   "metadata": {},
   "outputs": [
    {
     "data": {
      "application/vnd.jupyter.widget-view+json": {
       "model_id": "fe5efa61c6b746de8f18e03ce06cdfaa",
       "version_major": 2,
       "version_minor": 0
      },
      "text/plain": [
       "interactive(children=(FloatSlider(value=25.0, description='r', max=150.0, step=0.5), Output()), _dom_classes=(…"
      ]
     },
     "metadata": {},
     "output_type": "display_data"
    },
    {
     "data": {
      "text/plain": [
       "<function __main__.plot_lorenz_system(r)>"
      ]
     },
     "execution_count": 7,
     "metadata": {},
     "output_type": "execute_result"
    }
   ],
   "source": [
    "import numpy as np\n",
    "import matplotlib.pyplot as plt\n",
    "from euler import euler  # Assuming you have a function called euler in a module named euler\n",
    "import ipywidgets as widgets\n",
    "from ipywidgets import interact\n",
    "\n",
    "# Define the function F with sigma and b as constants\n",
    "sigma = 10\n",
    "b = 8/3\n",
    "\n",
    "# Time parameters\n",
    "t0 = 0\n",
    "tmax = 10\n",
    "dt = 0.001\n",
    "\n",
    "# Initial condition\n",
    "x0 = [0, 1, 0]\n",
    "\n",
    "# Function to update plots based on r value\n",
    "def plot_lorenz_system(r):\n",
    "    F = lambda t, x: np.array(\n",
    "        [-sigma * x[0] + sigma * x[1],\n",
    "         -x[0] * x[2] + r * x[0] - x[1],\n",
    "         x[0] * x[1] - b * x[2]\n",
    "        ]\n",
    "    )\n",
    "\n",
    "    # Fixed point calculation\n",
    "    fixed = np.sqrt(b * (r - 1))\n",
    "    \n",
    "    # Solve the differential equation using Euler method\n",
    "    t, x1 = euler(F, x0, t0, tmax, dt)\n",
    "    \n",
    "    # Create the plot\n",
    "    fig, ax = plt.subplots(2, 2, figsize=(8, 6))\n",
    "\n",
    "    # X(t)\n",
    "    ax[0, 0].plot(t, x1[:, 0])\n",
    "    ax[0, 0].set_xlabel(\"time t\")\n",
    "    ax[0, 0].set_ylabel(\"X(t)\")\n",
    "    \n",
    "    # Y(t)\n",
    "    ax[0, 1].plot(t, x1[:, 1])\n",
    "    ax[0, 1].set_xlabel(\"time t\")\n",
    "    ax[0, 1].set_ylabel(\"Y(t)\")\n",
    "    \n",
    "    # Z(t)\n",
    "    ax[1, 0].plot(t, x1[:, 2])\n",
    "    ax[1, 0].set_xlabel(\"time t\")\n",
    "    ax[1, 0].set_ylabel(\"Z(t)\")\n",
    "    \n",
    "    # Phase space Y(t) vs Z(t)\n",
    "    ax[1, 1].plot(x1[:, 1], x1[:, 2])\n",
    "    ax[1, 1].plot(fixed, r-1, color=\"r\", marker=\"o\", markersize=5)\n",
    "    ax[1, 1].plot(-fixed, r-1, color=\"r\", marker=\"o\", markersize=5)\n",
    "    ax[1, 1].set_xlabel(\"Y(t)\")\n",
    "    ax[1, 1].set_ylabel(\"Z(t)\")\n",
    "\n",
    "    fig.suptitle(\"IC: X(0) = 0, Y(0) = 1, Z(0) = 0\")\n",
    "    \n",
    "    plt.tight_layout()\n",
    "    plt.show()\n",
    "\n",
    "# Create the slider for r\n",
    "r_slider = widgets.FloatSlider(value=25, min=0, max=150, step=0.5, description=\"r\")\n",
    "\n",
    "# Use the interact function to link the slider to the plotting function\n",
    "interact(plot_lorenz_system, r=r_slider)\n"
   ]
  }
 ],
 "metadata": {
  "kernelspec": {
   "display_name": "Python 3",
   "language": "python",
   "name": "python3"
  },
  "language_info": {
   "codemirror_mode": {
    "name": "ipython",
    "version": 3
   },
   "file_extension": ".py",
   "mimetype": "text/x-python",
   "name": "python",
   "nbconvert_exporter": "python",
   "pygments_lexer": "ipython3",
   "version": "3.10.12"
  }
 },
 "nbformat": 4,
 "nbformat_minor": 2
}
